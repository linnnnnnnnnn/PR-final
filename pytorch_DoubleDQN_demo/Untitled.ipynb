{
 "cells": [
  {
   "cell_type": "code",
   "execution_count": 34,
   "metadata": {},
   "outputs": [],
   "source": [
    "import pickle\n",
    "import numpy as np"
   ]
  },
  {
   "cell_type": "code",
   "execution_count": 35,
   "metadata": {},
   "outputs": [],
   "source": [
    "obj2 = pickle.load(open(\"../models/mimic.pickle\", \"r\"))"
   ]
  },
  {
   "cell_type": "code",
   "execution_count": 36,
   "metadata": {},
   "outputs": [],
   "source": [
    "import numpy as np\n",
    "import random\n",
    "from collections import namedtuple\n",
    "Transition = namedtuple('Transition', ('state', 'action', 'reward', 'state_'))"
   ]
  },
  {
   "cell_type": "code",
   "execution_count": 37,
   "metadata": {},
   "outputs": [
    {
     "data": {
      "text/plain": [
       "array([[-0.5 , -0.5 ,  1.  ,  0.  , -0.5 , -0.25],\n",
       "       [-0.5 , -0.25,  2.  ,  0.  , -0.25, -0.25],\n",
       "       [-0.25, -0.25,  1.  ,  0.  , -0.25,  0.  ],\n",
       "       [-0.25,  0.  ,  2.  ,  1.  ,  0.  ,  0.  ],\n",
       "       [-0.5 , -0.5 ,  2.  ,  0.  , -0.25, -0.5 ],\n",
       "       [-0.25, -0.5 ,  2.  ,  0.  ,  0.  , -0.5 ],\n",
       "       [ 0.  , -0.5 ,  2.  ,  0.  ,  0.25, -0.5 ],\n",
       "       [ 0.25, -0.5 ,  1.  ,  0.  ,  0.25, -0.25],\n",
       "       [ 0.25, -0.25,  1.  ,  0.  ,  0.25,  0.  ],\n",
       "       [ 0.25,  0.  ,  3.  ,  1.  ,  0.  ,  0.  ],\n",
       "       [-0.5 , -0.5 ,  1.  ,  0.  , -0.5 , -0.25],\n",
       "       [-0.5 , -0.25,  1.  ,  0.  , -0.5 ,  0.  ],\n",
       "       [-0.5 ,  0.  ,  2.  ,  0.  , -0.25,  0.  ],\n",
       "       [-0.25,  0.  ,  2.  ,  1.  ,  0.  ,  0.  ],\n",
       "       [-0.5 , -0.5 ,  1.  ,  0.  , -0.5 , -0.25],\n",
       "       [-0.5 , -0.25,  1.  ,  0.  , -0.5 ,  0.  ],\n",
       "       [-0.5 ,  0.  ,  2.  ,  0.  , -0.25,  0.  ],\n",
       "       [-0.25,  0.  ,  2.  ,  1.  ,  0.  ,  0.  ],\n",
       "       [-0.5 , -0.5 ,  1.  ,  0.  , -0.5 , -0.25],\n",
       "       [-0.5 , -0.25,  1.  ,  0.  , -0.5 ,  0.  ],\n",
       "       [-0.5 ,  0.  ,  2.  ,  0.  , -0.25,  0.  ],\n",
       "       [-0.25,  0.  ,  2.  ,  1.  ,  0.  ,  0.  ],\n",
       "       [-0.5 , -0.5 ,  2.  ,  0.  , -0.25, -0.5 ],\n",
       "       [-0.25, -0.5 ,  1.  ,  0.  , -0.25, -0.25],\n",
       "       [-0.25, -0.25,  1.  ,  0.  , -0.25,  0.  ],\n",
       "       [-0.25,  0.  ,  2.  ,  1.  ,  0.  ,  0.  ],\n",
       "       [-0.5 , -0.5 ,  1.  ,  0.  , -0.5 , -0.25],\n",
       "       [-0.5 , -0.25,  2.  ,  0.  , -0.25, -0.25],\n",
       "       [-0.25, -0.25,  1.  ,  0.  , -0.25,  0.  ],\n",
       "       [-0.25,  0.  ,  2.  ,  1.  ,  0.  ,  0.  ],\n",
       "       [-0.5 , -0.5 ,  2.  ,  0.  , -0.25, -0.5 ],\n",
       "       [-0.25, -0.5 ,  2.  ,  0.  ,  0.  , -0.5 ],\n",
       "       [ 0.  , -0.5 ,  2.  ,  0.  ,  0.25, -0.5 ],\n",
       "       [ 0.25, -0.5 ,  2.  ,  0.  ,  0.25, -0.5 ],\n",
       "       [ 0.25, -0.5 ,  1.  ,  0.  ,  0.25, -0.25],\n",
       "       [ 0.25, -0.25,  1.  ,  0.  ,  0.25,  0.  ],\n",
       "       [ 0.25,  0.  ,  3.  ,  1.  ,  0.  ,  0.  ],\n",
       "       [-0.5 , -0.5 ,  1.  ,  0.  , -0.5 , -0.25],\n",
       "       [-0.5 , -0.25,  1.  ,  0.  , -0.5 ,  0.  ],\n",
       "       [-0.5 ,  0.  ,  2.  ,  0.  , -0.25,  0.  ],\n",
       "       [-0.25,  0.  ,  2.  ,  1.  ,  0.  ,  0.  ],\n",
       "       [-0.5 , -0.5 ,  1.  ,  0.  , -0.5 , -0.25],\n",
       "       [-0.5 , -0.25,  1.  ,  0.  , -0.5 ,  0.  ],\n",
       "       [-0.5 ,  0.  ,  2.  ,  0.  , -0.25,  0.  ],\n",
       "       [-0.25,  0.  ,  2.  ,  1.  ,  0.  ,  0.  ]])"
      ]
     },
     "execution_count": 37,
     "metadata": {},
     "output_type": "execute_result"
    }
   ],
   "source": [
    "obj2"
   ]
  },
  {
   "cell_type": "code",
   "execution_count": null,
   "metadata": {},
   "outputs": [],
   "source": []
  },
  {
   "cell_type": "code",
   "execution_count": null,
   "metadata": {},
   "outputs": [],
   "source": []
  },
  {
   "cell_type": "code",
   "execution_count": null,
   "metadata": {},
   "outputs": [],
   "source": []
  },
  {
   "cell_type": "code",
   "execution_count": null,
   "metadata": {},
   "outputs": [],
   "source": []
  },
  {
   "cell_type": "code",
   "execution_count": null,
   "metadata": {},
   "outputs": [],
   "source": []
  }
 ],
 "metadata": {
  "kernelspec": {
   "display_name": "Python 2",
   "language": "python",
   "name": "python2"
  },
  "language_info": {
   "codemirror_mode": {
    "name": "ipython",
    "version": 2
   },
   "file_extension": ".py",
   "mimetype": "text/x-python",
   "name": "python",
   "nbconvert_exporter": "python",
   "pygments_lexer": "ipython2",
   "version": "2.7.10"
  }
 },
 "nbformat": 4,
 "nbformat_minor": 2
}
