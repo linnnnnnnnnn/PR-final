{
 "cells": [
  {
   "cell_type": "code",
   "execution_count": 1,
   "metadata": {},
   "outputs": [],
   "source": [
    "import pickle\n",
    "import numpy as np"
   ]
  },
  {
   "cell_type": "code",
   "execution_count": 2,
   "metadata": {},
   "outputs": [],
   "source": [
    "obj2 = pickle.load(open(\"../models/mimic_car.pickle\", \"r\"))"
   ]
  },
  {
   "cell_type": "code",
   "execution_count": 3,
   "metadata": {},
   "outputs": [],
   "source": [
    "import numpy as np\n",
    "import random\n",
    "from collections import namedtuple\n",
    "Transition = namedtuple('Transition', ('state', 'action', 'reward', 'state_'))"
   ]
  },
  {
   "cell_type": "code",
   "execution_count": 4,
   "metadata": {},
   "outputs": [
    {
     "data": {
      "text/plain": [
       "array([[ -5.09731582e-01,   0.00000000e+00,   1.00000000e+00,\n",
       "         -1.00000000e+00,  -5.09835556e-01,  -1.03973954e-04],\n",
       "       [ -5.09835556e-01,  -1.03973954e-04,   1.00000000e+00,\n",
       "         -1.00000000e+00,  -5.10042725e-01,  -2.07168773e-04],\n",
       "       [ -5.10042725e-01,  -2.07168773e-04,   1.00000000e+00,\n",
       "         -1.00000000e+00,  -5.10351536e-01,  -3.08811130e-04],\n",
       "       ..., \n",
       "       [  4.57360165e-01,   1.56525589e-02,   2.00000000e+00,\n",
       "         -1.00000000e+00,   4.73519198e-01,   1.61590325e-02],\n",
       "       [  4.73519198e-01,   1.61590325e-02,   2.00000000e+00,\n",
       "         -1.00000000e+00,   4.90304045e-01,   1.67848470e-02],\n",
       "       [  4.90304045e-01,   1.67848470e-02,   2.00000000e+00,\n",
       "         -1.00000000e+00,   5.07839596e-01,   1.75355515e-02]])"
      ]
     },
     "execution_count": 4,
     "metadata": {},
     "output_type": "execute_result"
    }
   ],
   "source": [
    "obj2"
   ]
  },
  {
   "cell_type": "code",
   "execution_count": null,
   "metadata": {},
   "outputs": [],
   "source": []
  },
  {
   "cell_type": "code",
   "execution_count": null,
   "metadata": {},
   "outputs": [],
   "source": []
  },
  {
   "cell_type": "code",
   "execution_count": null,
   "metadata": {},
   "outputs": [],
   "source": []
  },
  {
   "cell_type": "code",
   "execution_count": null,
   "metadata": {},
   "outputs": [],
   "source": []
  },
  {
   "cell_type": "code",
   "execution_count": null,
   "metadata": {},
   "outputs": [],
   "source": []
  }
 ],
 "metadata": {
  "kernelspec": {
   "display_name": "Python 2",
   "language": "python",
   "name": "python2"
  },
  "language_info": {
   "codemirror_mode": {
    "name": "ipython",
    "version": 2
   },
   "file_extension": ".py",
   "mimetype": "text/x-python",
   "name": "python",
   "nbconvert_exporter": "python",
   "pygments_lexer": "ipython2",
   "version": "2.7.10"
  }
 },
 "nbformat": 4,
 "nbformat_minor": 2
}
